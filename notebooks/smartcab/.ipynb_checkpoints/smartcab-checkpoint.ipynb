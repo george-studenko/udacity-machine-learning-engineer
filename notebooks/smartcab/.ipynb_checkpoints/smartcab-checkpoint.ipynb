{
 "cells": [
  {
   "cell_type": "markdown",
   "metadata": {},
   "source": [
    "## Implement a Basic Driving Agent\n",
    "To begin, your only task is to get the **smartcab** to move around in the environment. At this point, you will not be concerned with any sort of optimal driving policy. Note that the driving agent is given the following information at each intersection:\n",
    "\n",
    "- The next waypoint location relative to its current location and heading.\n",
    "- The state of the traffic light at the intersection and the presence of oncoming vehicles from other directions.\n",
    "- The current time left from the allotted deadline.\n",
    "\n",
    "To complete this task, simply have your driving agent choose a random action from the set of possible actions (`None, 'forward', 'left', 'right'`) at each intersection, disregarding the input information above. Set the simulation deadline enforcement, `enforce_deadline` to `False` and observe how it performs.\n",
    "\n",
    "### Question\n",
    "Observe what you see with the agent's behavior as it takes random actions. Does the **smartcab** eventually make it to the destination? Are there any other interesting observations to note?\n",
    "\n",
    "### Answer\n",
    "As we would expect, the agent showed completely erratic behavior. Still, even with random actions represented by $\\alpha = 1$, $\\gamma = 0$ and $\\epsilon = 1$ averaged over 100 runs each with `n_times=100`, the agent can reach its destination quite often. In its best run it fails in only 32 cases by hitting the hard time limit (-100):\n",
    "\n",
    "    Highest success rate is 67.68% for alpha=1, gamma=0, and epsilon=1.\n",
    "\n",
    "Intuitively, given $8 \\times 6 = 48$ intersections and the option to do nothing, I'd expected it to fail more often.\n",
    "\n",
    "Naturally, the results deteriorate if we set `enforce_deadline` to `True`. The cab would reach the destination in about 20% of the cases at best:\n",
    "\n",
    "    Highest success rate is 20.31% for alpha=1, gamma=0, and epsilon=1."
   ]
  },
  {
   "cell_type": "markdown",
   "metadata": {},
   "source": [
    "## Inform the Driving Agent\n",
    "Now that your driving agent is capable of moving around in the environment, your next task is to identify a set of states that are appropriate for modeling the **smartcab** and environment. The main source of state variables are the current inputs at the intersection, but not all may require representation. You may choose to explicitly define states, or use some combination of inputs as an implicit state. At each time step, process the inputs and update the agent's current state using the `self.state` variable. Continue with the simulation deadline enforcement `enforce_deadline` being set to `False`, and observe how your driving agent now reports the change in state as the simulation progresses.\n",
    "\n",
    "### QUESTION\n",
    "What states have you identified that are appropriate for modeling the **smartcab** and environment? Why do you believe each of these states to be appropriate for this problem?\n",
    "\n",
    "### Answer\n",
    "Naively, we could use all the `inputs` containing information about the light and possible cars and their directions, the next `waypoint`, and also the `deadline` to constitute states. Since `deadline` can take up lots of different values, it would dramatically increase the number of states and thus training time. If we'd like to increase the size of the grid later, we'd even be in a worse situation.\n",
    "\n",
    "Of course, we could also think of something more complicated like $\\left \\lfloor{log_{3}({deadline})}\\right \\rfloor$. This approach would not also reduce the number of states resulting by changes in `deadline`, but we could also tackle the importance of the remaining time: the state would change more often the smaller the remaining time becomes. Anyway, this is should also be possible by adjusting $\\alpha$, $\\gamma$, and $\\epsilon$ according to the `deadline`.\n",
    "\n",
    "The next best thing would be 5 variables with 2 or 4 possible values:\n",
    "\n",
    "- $light \\in \\{red, green\\}$\n",
    "- $left \\in \\{None, forward, left, right\\}$\n",
    "- $oncoming \\in \\{None, forward, left, right\\}$\n",
    "- $right \\in \\{None, forward, left, right\\}$\n",
    "- $waypoint \\in \\{None, forward, left, right\\}$\n",
    "\n",
    "`state` could be stored as a dictionary containing a combination of those, so we'd still have 512 different states.\n",
    "\n",
    "### OPTIONAL\n",
    "How many states in total exist for the **smartcab** in this environment? Does this number seem reasonable given that the goal of Q-Learning is to learn and make informed decisions about each state? Why or why not?\n",
    "\n",
    "### Answer\n",
    "The approach generates $2 \\times 4 \\times 4 \\times 4 \\times 4 = 512$ different states possible. This will allow the agent to make good decisions, but it will also learn very slowly. For Q-Learning, there are many states that have to be visited multiple times in order to learn the value of each action possible. \n",
    "\n",
    "The most extreme alternative (besides driving randomly) would probably be to ignore everything but `waypoint`. We'd only have 4 states, and given the small amount of traffic this might even work - but I'd probably not use such a smartcab in real life. Also including `light` would be my next best alternative, because this parameter has to be considered at every intersection, would prevent some crashes, and would influence our reward quite a bit. We'd end up with merely 8 states which I'd consider quite reasonable."
   ]
  },
  {
   "cell_type": "markdown",
   "metadata": {},
   "source": [
    "## Implement a Q-Learning Driving Agent\n",
    "\n",
    "With your driving agent being capable of interpreting the input information and having a mapping of environmental states, your next task is to implement the Q-Learning algorithm for your driving agent to choose the best action at each time step, based on the Q-values for the current state and action. Each action taken by the **smartcab** will produce a reward which depends on the state of the environment. The Q-Learning driving agent will need to consider these rewards when updating the Q-values. Once implemented, set the simulation deadline enforcement `enforce_deadline` to `True`. Run the simulation and observe how the **smartcab** moves about the environment in each trial.\n",
    "\n",
    "The formulas for updating Q-values can be [found in this video](https://classroom.udacity.com/nanodegrees/nd009/parts/0091345409/modules/e64f9a65-fdb5-4e60-81a9-72813beebb7e/lessons/5446820041/concepts/6348990570923).\n",
    "\n",
    "### QUESTION\n",
    "What changes do you notice in the agent's behavior when compared to the basic driving agent when random actions were always taken? Why is this behavior occurring?\n",
    "\n",
    "### Answer\n",
    "To me it is not completely clear how $\\alpha$, $\\gamma$ and $\\epsilon$ should be set for this first run, so I simply used `random.random()` to generate random values for each of them. I also had a look at the results before setting `enforce_deadline` to `True`. In most cases, even with these random values the performance increased dramatically. In many cases, the agent wouldn't fail anymore. That was to be expected, because now the agent learns over time and uses the rewards as guidance for his actions instead of driving randomly. I also noticed that the agent tended to only fail in eary trials if at all. That's because it takes some time to fill in all the Q values.\n",
    "\n",
    "Here are some sample results for different random combinations of $\\alpha$, $\\gamma$ and $\\epsilon$ also averaged over 100 runs:\n",
    "\n",
    "    Highest success rate is 77.34% for alpha=0.496106102044, gamma=0.600540645675, and epsilon=0.924729582913.\n",
    "    Highest success rate is 98.99% for alpha=0.207706223385, gamma=0.942954028125, and epsilon=0.214908126216.\n",
    "    Highest success rate is 99.74% for alpha=0.0012925144849, gamma=0.524678643183, and epsilon=0.318736092307.\n",
    "\n",
    "After these trials, I set `enforce_deadline` to `True` and simply set $\\alpha$ and $\\gamma$ to 0.5 and $\\epsilon$ to 0.25, so the agent would still randomly cruise the streets in about 25 % of all moves, moderately consider previous visits and moderately take into account the utility of the next state. In 100 runs with 100 iterations each, the average success rate was about 79% - still better than the random approach even though now we have a deadline:\n",
    "\n",
    "    Highest success rate is 79.29% for alpha=0.5, gamma=0.5, and epsilon=0.25."
   ]
  },
  {
   "cell_type": "markdown",
   "metadata": {},
   "source": [
    "## Improve the Q-Learning Driving Agent\n",
    "Your final task for this project is to enhance your driving agent so that, after sufficient training, the **smartcab** is able to reach the destination within the allotted time safely and efficiently. Parameters in the Q-Learning algorithm, such as the learning rate (`alpha`), the discount factor (`gamma`) and the exploration rate (`epsilon`) all contribute to the driving agent’s ability to learn the best action for each state. To improve on the success of your **smartcab**:\n",
    "\n",
    "- Set the number of trials, `n_trials`, in the simulation to 100.\n",
    "- Run the simulation with the deadline enforcement `enforce_deadline` set to `True` (you will need to reduce the update delay `update_delay` and set the `display` to `False`).\n",
    "- Observe the driving agent’s learning and **smartcab’s** success rate, particularly during the later trials.\n",
    "- Adjust one or several of the above parameters and iterate this process.\n",
    "- This task is complete once you have arrived at what you determine is the best combination of parameters required for your driving agent to learn successfully.\n",
    "\n",
    "### QUESTION\n",
    "Report the different values for the parameters tuned in your basic implementation of Q-Learning. For which set of parameters does the agent perform best? How well does the final driving agent perform?\n",
    "\n",
    "### Answer\n",
    "In order to find the best combination of $\\alpha$, $\\gamma$ and $\\epsilon$, I quickly implemented a grid search. I lazily started it with a set of $\\{0.1, 0.2, 0.3, 0.4, 0.5, 0.6, 0.7, 0.8, 0.9\\}$ for each parameter and averaged the success rate of 100 trials for each combination, running with `n_times=100`. Still a feasable problem that can be tackled this way ;-) After quite some waiting, the result was:\n",
    "\n",
    "    Highest success rate is 87.66% for alpha=0.1, gamma=0.2, and epsilon=0.2.\n",
    "\n",
    "Afterwards, I explored the space around this solution a little more diligently by setting $\\alpha \\in \\{0.03, 0.07, 0.1, 0.13, 0.17\\}, \\gamma \\in \\{0.13, 0.17, 0.2, 0.23, 0.27\\}$ and $\\epsilon \\in \\{0.13, 0.17, 0.2, 0.23, 0.27\\}$. Now, I averaged the success rate of 100 trials for each combination. The final result was:\n",
    "\n",
    "    TODO: \n",
    "\n",
    "Since \n",
    "\n",
    "### QUESTION\n",
    "Does your agent get close to finding an optimal policy, i.e. reach the destination in the minimum possible time, and not incur any penalties? How would you describe an optimal policy for this problem?"
   ]
  },
  {
   "cell_type": "code",
   "execution_count": null,
   "metadata": {
    "collapsed": true
   },
   "outputs": [],
   "source": []
  }
 ],
 "metadata": {
  "kernelspec": {
   "display_name": "Python 2",
   "language": "python",
   "name": "python2"
  },
  "language_info": {
   "codemirror_mode": {
    "name": "ipython",
    "version": 2
   },
   "file_extension": ".py",
   "mimetype": "text/x-python",
   "name": "python",
   "nbconvert_exporter": "python",
   "pygments_lexer": "ipython2",
   "version": "2.7.12"
  }
 },
 "nbformat": 4,
 "nbformat_minor": 1
}
