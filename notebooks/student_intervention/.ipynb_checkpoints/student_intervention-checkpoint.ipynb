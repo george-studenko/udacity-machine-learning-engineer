{
 "cells": [
  {
   "cell_type": "markdown",
   "metadata": {},
   "source": [
    "# Machine Learning Engineer Nanodegree\n",
    "## Supervised Learning\n",
    "## Project 2: Building a Student Intervention System"
   ]
  },
  {
   "cell_type": "markdown",
   "metadata": {},
   "source": [
    "Welcome to the second project of the Machine Learning Engineer Nanodegree! In this notebook, some template code has already been provided for you, and it will be your job to implement the additional functionality necessary to successfully complete this project. Sections that begin with **'Implementation'** in the header indicate that the following block of code will require additional functionality which you must provide. Instructions will be provided for each section and the specifics of the implementation are marked in the code block with a `'TODO'` statement. Please be sure to read the instructions carefully!\n",
    "\n",
    "In addition to implementing code, there will be questions that you must answer which relate to the project and your implementation. Each section where you will answer a question is preceded by a **'Question X'** header. Carefully read each question and provide thorough answers in the following text boxes that begin with **'Answer:'**. Your project submission will be evaluated based on your answers to each of the questions and the implementation you provide.  \n",
    "\n",
    ">**Note:** Code and Markdown cells can be executed using the **Shift + Enter** keyboard shortcut. In addition, Markdown cells can be edited by typically double-clicking the cell to enter edit mode."
   ]
  },
  {
   "cell_type": "markdown",
   "metadata": {},
   "source": [
    "### Question 1 - Classification vs. Regression\n",
    "*Your goal for this project is to identify students who might need early intervention before they fail to graduate. Which type of supervised learning problem is this, classification or regression? Why?*"
   ]
  },
  {
   "cell_type": "markdown",
   "metadata": {},
   "source": [
    "**Answer: **\n",
    "It is a classification problem. We want to distinguish students that are likely to fail and who supposedly need intervention from those students who don't. Consequently, we have a discrete output variable with two labels -- a job for classification."
   ]
  },
  {
   "cell_type": "markdown",
   "metadata": {},
   "source": [
    "## Exploring the Data\n",
    "Run the code cell below to load necessary Python libraries and load the student data. Note that the last column from this dataset, `'passed'`, will be our target label (whether the student graduated or didn't graduate). All other columns are features about each student."
   ]
  },
  {
   "cell_type": "code",
   "execution_count": 1,
   "metadata": {
    "collapsed": false
   },
   "outputs": [
    {
     "name": "stdout",
     "output_type": "stream",
     "text": [
      "Student data read successfully!\n"
     ]
    }
   ],
   "source": [
    "# Import libraries\n",
    "import numpy as np\n",
    "import pandas as pd\n",
    "from time import time\n",
    "from sklearn.metrics import f1_score\n",
    "\n",
    "# Read student data\n",
    "student_data = pd.read_csv(\"student-data.csv\")\n",
    "print \"Student data read successfully!\""
   ]
  },
  {
   "cell_type": "markdown",
   "metadata": {},
   "source": [
    "### Implementation: Data Exploration\n",
    "Let's begin by investigating the dataset to determine how many students we have information on, and learn about the graduation rate among these students. In the code cell below, you will need to compute the following:\n",
    "- The total number of students, `n_students`.\n",
    "- The total number of features for each student, `n_features`.\n",
    "- The number of those students who passed, `n_passed`.\n",
    "- The number of those students who failed, `n_failed`.\n",
    "- The graduation rate of the class, `grad_rate`, in percent (%).\n"
   ]
  },
  {
   "cell_type": "code",
   "execution_count": 2,
   "metadata": {
    "collapsed": false
   },
   "outputs": [
    {
     "name": "stdout",
     "output_type": "stream",
     "text": [
      "Total number of students: 395\n",
      "Number of features: 30\n",
      "Number of students who passed: 265\n",
      "Number of students who failed: 130\n",
      "Graduation rate of the class: 67.09%\n"
     ]
    }
   ],
   "source": [
    "'''\n",
    "# get an overview first\n",
    "print student_data.head(), '\\n'\n",
    "print student_data.describe(), '\\n'\n",
    "'''\n",
    "\n",
    "# TODO: Calculate number of students\n",
    "n_students = student_data.shape[0]\n",
    "\n",
    "# TODO: Calculate number of features\n",
    "# minus 1 because the last column represents the target variable\n",
    "n_features = student_data.shape[1] - 1\n",
    "\n",
    "# TODO: Calculate passing students\n",
    "n_passed = student_data['passed'][student_data['passed'] == 'yes'].count()\n",
    "\n",
    "# TODO: Calculate failing students\n",
    "# don't use (n_students - n_passed) because there might be missing data\n",
    "n_failed = student_data['passed'][student_data['passed'] == 'no'].count()\n",
    "\n",
    "# TODO: Calculate graduation rate\n",
    "grad_rate = float(n_passed) / n_students * 100\n",
    "\n",
    "# Print the results\n",
    "print \"Total number of students: {}\".format(n_students)\n",
    "print \"Number of features: {}\".format(n_features)\n",
    "print \"Number of students who passed: {}\".format(n_passed)\n",
    "print \"Number of students who failed: {}\".format(n_failed)\n",
    "print \"Graduation rate of the class: {:.2f}%\".format(grad_rate)"
   ]
  },
  {
   "cell_type": "markdown",
   "metadata": {},
   "source": [
    "## Preparing the Data\n",
    "In this section, we will prepare the data for modeling, training and testing.\n",
    "\n",
    "### Identify feature and target columns\n",
    "It is often the case that the data you obtain contains non-numeric features. This can be a problem, as most machine learning algorithms expect numeric data to perform computations with.\n",
    "\n",
    "Run the code cell below to separate the student data into feature and target columns to see if any features are non-numeric."
   ]
  },
  {
   "cell_type": "code",
   "execution_count": 3,
   "metadata": {
    "collapsed": false
   },
   "outputs": [
    {
     "name": "stdout",
     "output_type": "stream",
     "text": [
      "Feature columns:\n",
      "['school', 'sex', 'age', 'address', 'famsize', 'Pstatus', 'Medu', 'Fedu', 'Mjob', 'Fjob', 'reason', 'guardian', 'traveltime', 'studytime', 'failures', 'schoolsup', 'famsup', 'paid', 'activities', 'nursery', 'higher', 'internet', 'romantic', 'famrel', 'freetime', 'goout', 'Dalc', 'Walc', 'health', 'absences']\n",
      "\n",
      "Target column: passed\n",
      "\n",
      "Feature values:\n",
      "  school sex  age address famsize Pstatus  Medu  Fedu     Mjob      Fjob  \\\n",
      "0     GP   F   18       U     GT3       A     4     4  at_home   teacher   \n",
      "1     GP   F   17       U     GT3       T     1     1  at_home     other   \n",
      "2     GP   F   15       U     LE3       T     1     1  at_home     other   \n",
      "3     GP   F   15       U     GT3       T     4     2   health  services   \n",
      "4     GP   F   16       U     GT3       T     3     3    other     other   \n",
      "\n",
      "    ...    higher internet  romantic  famrel  freetime goout Dalc Walc health  \\\n",
      "0   ...       yes       no        no       4         3     4    1    1      3   \n",
      "1   ...       yes      yes        no       5         3     3    1    1      3   \n",
      "2   ...       yes      yes        no       4         3     2    2    3      3   \n",
      "3   ...       yes      yes       yes       3         2     2    1    1      5   \n",
      "4   ...       yes       no        no       4         3     2    1    2      5   \n",
      "\n",
      "  absences  \n",
      "0        6  \n",
      "1        4  \n",
      "2       10  \n",
      "3        2  \n",
      "4        4  \n",
      "\n",
      "[5 rows x 30 columns]\n"
     ]
    }
   ],
   "source": [
    "# Extract feature columns\n",
    "feature_cols = list(student_data.columns[:-1])\n",
    "\n",
    "# Extract target column 'passed'\n",
    "target_col = student_data.columns[-1] \n",
    "\n",
    "# Show the list of columns\n",
    "print \"Feature columns:\\n{}\".format(feature_cols)\n",
    "print \"\\nTarget column: {}\".format(target_col)\n",
    "\n",
    "# Separate the data into feature data and target data (X_all and y_all, respectively)\n",
    "X_all = student_data[feature_cols]\n",
    "y_all = student_data[target_col]\n",
    "\n",
    "# Show the feature information by printing the first five rows\n",
    "print \"\\nFeature values:\"\n",
    "print X_all.head()"
   ]
  },
  {
   "cell_type": "markdown",
   "metadata": {},
   "source": [
    "### Preprocess Feature Columns\n",
    "\n",
    "As you can see, there are several non-numeric columns that need to be converted! Many of them are simply `yes`/`no`, e.g. `internet`. These can be reasonably converted into `1`/`0` (binary) values.\n",
    "\n",
    "Other columns, like `Mjob` and `Fjob`, have more than two values, and are known as _categorical variables_. The recommended way to handle such a column is to create as many columns as possible values (e.g. `Fjob_teacher`, `Fjob_other`, `Fjob_services`, etc.), and assign a `1` to one of them and `0` to all others.\n",
    "\n",
    "These generated columns are sometimes called _dummy variables_, and we will use the [`pandas.get_dummies()`](http://pandas.pydata.org/pandas-docs/stable/generated/pandas.get_dummies.html?highlight=get_dummies#pandas.get_dummies) function to perform this transformation. Run the code cell below to perform the preprocessing routine discussed in this section."
   ]
  },
  {
   "cell_type": "code",
   "execution_count": 4,
   "metadata": {
    "collapsed": false
   },
   "outputs": [
    {
     "name": "stdout",
     "output_type": "stream",
     "text": [
      "Processed feature columns (48 total features):\n",
      "['school_GP', 'school_MS', 'sex_F', 'sex_M', 'age', 'address_R', 'address_U', 'famsize_GT3', 'famsize_LE3', 'Pstatus_A', 'Pstatus_T', 'Medu', 'Fedu', 'Mjob_at_home', 'Mjob_health', 'Mjob_other', 'Mjob_services', 'Mjob_teacher', 'Fjob_at_home', 'Fjob_health', 'Fjob_other', 'Fjob_services', 'Fjob_teacher', 'reason_course', 'reason_home', 'reason_other', 'reason_reputation', 'guardian_father', 'guardian_mother', 'guardian_other', 'traveltime', 'studytime', 'failures', 'schoolsup', 'famsup', 'paid', 'activities', 'nursery', 'higher', 'internet', 'romantic', 'famrel', 'freetime', 'goout', 'Dalc', 'Walc', 'health', 'absences']\n"
     ]
    }
   ],
   "source": [
    "def preprocess_features(X):\n",
    "    ''' Preprocesses the student data and converts non-numeric binary variables into\n",
    "        binary (0/1) variables. Converts categorical variables into dummy variables. '''\n",
    "    \n",
    "    # Initialize new output DataFrame\n",
    "    output = pd.DataFrame(index = X.index)\n",
    "\n",
    "    # Investigate each feature column for the data\n",
    "    for col, col_data in X.iteritems():\n",
    "        \n",
    "        # If data type is non-numeric, replace all yes/no values with 1/0\n",
    "        if col_data.dtype == object:\n",
    "            col_data = col_data.replace(['yes', 'no'], [1, 0])\n",
    "\n",
    "        # If data type is categorical, convert to dummy variables\n",
    "        if col_data.dtype == object:\n",
    "            # Example: 'school' => 'school_GP' and 'school_MS'\n",
    "            col_data = pd.get_dummies(col_data, prefix = col)  \n",
    "        \n",
    "        # Collect the revised columns\n",
    "        output = output.join(col_data)\n",
    "    \n",
    "    return output\n",
    "\n",
    "X_all = preprocess_features(X_all)\n",
    "\n",
    "print \"Processed feature columns ({} total features):\\n{}\".format(len(X_all.columns), list(X_all.columns))"
   ]
  },
  {
   "cell_type": "markdown",
   "metadata": {},
   "source": [
    "### Implementation: Training and Testing Data Split\n",
    "So far, we have converted all _categorical_ features into numeric values. For the next step, we split the data (both features and corresponding labels) into training and test sets. In the following code cell below, you will need to implement the following:\n",
    "- Randomly shuffle and split the data (`X_all`, `y_all`) into training and testing subsets.\n",
    "  - Use 300 training points (approximately 75%) and 95 testing points (approximately 25%).\n",
    "  - Set a `random_state` for the function(s) you use, if provided.\n",
    "  - Store the results in `X_train`, `X_test`, `y_train`, and `y_test`."
   ]
  },
  {
   "cell_type": "code",
   "execution_count": 5,
   "metadata": {
    "collapsed": false
   },
   "outputs": [
    {
     "name": "stdout",
     "output_type": "stream",
     "text": [
      "Training set has 300 samples.\n",
      "Testing set has 95 samples.\n"
     ]
    }
   ],
   "source": [
    "# TODO: Import any additional functionality you may need here\n",
    "from sklearn import cross_validation\n",
    "\n",
    "# TODO: Set the number of training points\n",
    "num_train = 300\n",
    "\n",
    "# Set the number of testing points\n",
    "num_test = X_all.shape[0] - num_train\n",
    "\n",
    "# TODO: Shuffle and split the dataset into the number of training and testing points above\n",
    "\n",
    "# random_state, also for later\n",
    "RANDOM_STATE = 31415\n",
    "\n",
    "# test_size is 1-train_size by default, so no need to use num_test\n",
    "X_train, X_test, y_train, y_test = cross_validation.train_test_split(X_all, y_all, train_size=num_train, random_state=RANDOM_STATE)\n",
    "\n",
    "# Show the results of the split\n",
    "print \"Training set has {} samples.\".format(X_train.shape[0])\n",
    "print \"Testing set has {} samples.\".format(X_test.shape[0])"
   ]
  },
  {
   "cell_type": "markdown",
   "metadata": {},
   "source": [
    "## Training and Evaluating Models\n",
    "In this section, you will choose 3 supervised learning models that are appropriate for this problem and available in `scikit-learn`. You will first discuss the reasoning behind choosing these three models by considering what you know about the data and each model's strengths and weaknesses. You will then fit the model to varying sizes of training data (100 data points, 200 data points, and 300 data points) and measure the F<sub>1</sub> score. You will need to produce three tables (one for each model) that shows the training set size, training time, prediction time, F<sub>1</sub> score on the training set, and F<sub>1</sub> score on the testing set.\n",
    "\n",
    "**The following supervised learning models are currently available in** [`scikit-learn`](http://scikit-learn.org/stable/supervised_learning.html) **that you may choose from:**\n",
    "- Gaussian Naive Bayes (GaussianNB)\n",
    "- Decision Trees\n",
    "- Ensemble Methods (Bagging, AdaBoost, Random Forest, Gradient Boosting)\n",
    "- K-Nearest Neighbors (KNeighbors)\n",
    "- Stochastic Gradient Descent (SGDC)\n",
    "- Support Vector Machines (SVM)\n",
    "- Logistic Regression"
   ]
  },
  {
   "cell_type": "markdown",
   "metadata": {},
   "source": [
    "### Question 2 - Model Application\n",
    "*List three supervised learning models that are appropriate for this problem. For each model chosen*\n",
    "- Describe one real-world application in industry where the model can be applied. *(You may need to do a small bit of research for this — give references!)* \n",
    "- What are the strengths of the model; when does it perform well? \n",
    "- What are the weaknesses of the model; when does it perform poorly?\n",
    "- What makes this model a good candidate for the problem, given what you know about the data?"
   ]
  },
  {
   "cell_type": "markdown",
   "metadata": {},
   "source": [
    "**Answer: **\n",
    "\n",
    "## The problem at a glance\n",
    "We have a pretty small dataset with only 395 rows, and we will have to shrink it even more for creating a test set. In relation to the number of rows, we have quite a lot of features (30). In consequence, we will have to use a classification algorithm that can build a feasible model even given few training items and relatively many features.\n",
    "\n",
    "Furthermore, we could assume that the school might collect data for more students in the future, and this would influence our choice for the algorithm as well. It needs to scale well CPU-wise if we use a parametric model and want to retrain, or memory-wise if we use a non-parametric model. Since there are no hints given in the assignment -- and the board of directors probably wants to see some numbers right now, we won't take this into account too much, but keep it in mind.\n",
    "\n",
    "### Classifier 1: Support Vector Machines\n",
    "#### real-world application\n",
    "Support Vector Machines seem to be used frequently in medical settings. For example, they're used to identify breast cancer ([Zheng, B., Yoon, S. W., & Lam, S. S. (2014). Breast cancer diagnosis based on feature extraction using a hybrid of K-means and support vector machine algorithms. Expert Systems with Applications, 41(4), 1476-1482.](http://sci-hub.cc/10.1016/j.eswa.2013.08.044)). In the paper mentioned, SVMs are used in combination with a K-means algorithm. Using a 10-fold cross validation, this approach has 97.38% accuracy when tested on the [Wisconsin Diagnostic Breast Cancer (WDBC) data set](https://archive.ics.uci.edu/ml/datasets/Breast+Cancer+Wisconsin+(Diagnostic)).\n",
    "SVMs are also used on MRI images to distinguish between Alzheimer’s disease, mild cognitive impairment, and normal controls ([Zhang, Y., Wang, S., & Dong, Z. (2014). Classification of Alzheimer disease based on structural magnetic resonance imaging by kernel support vector machine decision tree. Progress In Electromagnetics Research, 144, 171-184.](http://jpier.org/PIER/pier144/16.13121310.pdf)). After all, this approach achieves 80% classification accuracy.\n",
    "\n",
    "#### strengths\n",
    "SVMs can be very effective in in high dimensional spaces. In fact, they can still be effective if the number of features is greater than the number of samples. Also, they can be used for many purposes: we can use the kernel trick to create non-linear decision boundaries in order to capture very complex patterns in the data. (cmp. [sklearn tutorial](http://scikit-learn.org/stable/modules/svm.html#svm))\n",
    "\n",
    "#### weaknesses\n",
    "Unfortunately, as we have learned from Sebastian Thrun, SVMs don't perform well on large training data sets because of the rapid growth of computation time. Also, they are prone to overfitting if there's a lot of noise in the data. Finetuning this via different parameters can be tricky.\n",
    "\n",
    "#### justification\n",
    "Using a support vector machine might be a good idea, because we only have a small dataset of a non-critical size. The [API page of sklearn](http://scikit-learn.org/stable/modules/generated/sklearn.svm.SVC.html#sklearn.svm.SVC) reads \"hard to scale to dataset with more than a couple of 10000 samples\", and we are way below that. Also taking into account the relatively high number of features (compared to the sample size), a SVM might be benefitial. It should be able to create a feasible model given these circumstances.\n",
    "\n",
    "\n",
    "### Classifier 2: Logistic Regression\n",
    "#### real-world application\n",
    "Logistic regression, despite its name, is a linear model for classification rather than regression (cmp. [sklearn documentation](http://scikit-learn.org/stable/modules/generated/sklearn.linear_model.LogisticRegression.html#sklearn.linear_model.LogisticRegression)). The algorithm is used in all kinds of domains ([Chatterjee, S., & Hadi, A. S. (2015). Regression analysis by example. John Wiley & Sons.](https://books.google.de/books?hl=de&lr=&id=zyjWBgAAQBAJ&oi=fnd&pg=PP1&dq=logistic+regression+example&ots=OYhEeTZMlZ&sig=x14Ux9ZP_gHEKsqmJP-expZFYHc#v=onepage&q=logistic%20regression%20example&f=false)) and can e.g. be used for classifying human actions in videos ([Liu, W., Liu, H., Tao, D., Wang, Y., & Lu, K. (2015). Multiview Hessian regularized logistic regression for action recognition. Signal Processing, 110, 101-107.](http://sci-hub.cc/10.1016/j.sigpro.2014.08.002)). This approach can support automatic tagging of videos, and in consequence improve information retrieval.\n",
    "\n",
    "#### strengths\n",
    "Logistic regression is a rather simple approach that does not require much computation time, so it can build a model quickly. In consequence, it can be used on large data sets. Furthermore, it is easy to interpret the structure of the model, so you could analyze it to understand the underlying problem better.\n",
    "\n",
    "#### weaknesses\n",
    "The simplicity of the model is also a weakness. Logistic regression assumes that data can be separated by a smooth linear decision boundary. If that assumption is wrong, then the algorithm will not yield good results. Also, logistic regression needs enough data points that cover the sets of features that can explain the target variable. If there are important factors that can influence the result, but only few data points reflect this factor, the explanatory power of the model is reduced (cmp [What are the advantages of logistic regression over decision trees?](https://www.quora.com/What-are-the-advantages-of-logistic-regression-over-decision-trees)).\n",
    "\n",
    "#### justification\n",
    "On first sight, logistic regression might be a weird choice. We don't know if the data can be separated in a linear fashion. On the other hand, linear models can work well in high dimensional spaces depending on the data structure (cmp. [sklearn classifier comparison](http://scikit-learn.org/stable/auto_examples/classification/plot_classifier_comparison.html)). Also, we have a binary classification problem (*student passed* or *student didn't pass*), and logistic regression is pretty good for one of those. That is why I'd like to give it a shot.\n",
    "\n",
    "### Classifier 3: K-Nearest Neighbors\n",
    "#### real-world application\n",
    "The K-Nearest Neighbor algorithm has already been used e.g. for estimating forest aboveground biomass in Norwegian forests [McRoberts, R. E., Næsset, E., & Gobakken, T. (2015). Optimizing the k-Nearest Neighbors technique for estimating forest aboveground biomass using airborne laser scanning data. Remote Sensing of Environment, 163, 13-22.](http://sci-hub.cc/10.1016/j.rse.2015.02.026)).\n",
    "\n",
    "#### strengths\n",
    "One of the benefits of nearest neighbor classifiers is that it doesn't need real training. This makes it suitable for applications that can or need to update the data frequently as new information is collected. Additionally, nearest neighbor algorithms can handle noise very well, and you don't have to analyze the data for possible patterns beforehand.\n",
    "\n",
    "#### weaknesses\n",
    "On the downside, nearest neighbor classifiers don't derive a parametric model but store all the datapoints. This can require lots of memory for large data sets. Furthermore, they are slow when actually predicting a result.\n",
    "\n",
    "#### justification\n",
    "\"Being a non-parametric method, it is often successful in classification situations where the decision boundary is very irregular.\" ([sklearn documentation](http://scikit-learn.org/stable/modules/neighbors.html)). Since we didn't analyze the data beforehand and we don't know, K-Nearest Neighbors might be a good approach. Also, I think it suits the organizational requirements, because you will get new data every now and then that would need re-training the model. Furthermore, you probably won't need predictions on a daily basis, so the lower speed for predictions won't be a problem."
   ]
  },
  {
   "cell_type": "markdown",
   "metadata": {},
   "source": [
    "### Setup\n",
    "Run the code cell below to initialize three helper functions which you can use for training and testing the three supervised learning models you've chosen above. The functions are as follows:\n",
    "- `train_classifier` - takes as input a classifier and training data and fits the classifier to the data.\n",
    "- `predict_labels` - takes as input a fit classifier, features, and a target labeling and makes predictions using the F<sub>1</sub> score.\n",
    "- `train_predict` - takes as input a classifier, and the training and testing data, and performs `train_clasifier` and `predict_labels`.\n",
    " - This function will report the F<sub>1</sub> score for both the training and testing data separately."
   ]
  },
  {
   "cell_type": "code",
   "execution_count": 6,
   "metadata": {
    "collapsed": false
   },
   "outputs": [],
   "source": [
    "def train_classifier(clf, X_train, y_train):\n",
    "    ''' Fits a classifier to the training data. '''\n",
    "    \n",
    "    # Start the clock, train the classifier, then stop the clock\n",
    "    start = time()\n",
    "    clf.fit(X_train, y_train)\n",
    "    end = time()\n",
    "    \n",
    "    # Print the results\n",
    "    print \"Trained model in {:.4f} seconds\".format(end - start)\n",
    "\n",
    "    \n",
    "def predict_labels(clf, features, target):\n",
    "    ''' Makes predictions using a fit classifier based on F1 score. '''\n",
    "    \n",
    "    # Start the clock, make predictions, then stop the clock\n",
    "    start = time()\n",
    "    y_pred = clf.predict(features)\n",
    "    end = time()\n",
    "    \n",
    "    # Print and return results\n",
    "    print \"Made predictions in {:.4f} seconds.\".format(end - start)\n",
    "    return f1_score(target.values, y_pred, pos_label='yes')\n",
    "\n",
    "\n",
    "def train_predict(clf, X_train, y_train, X_test, y_test):\n",
    "    ''' Train and predict using a classifer based on F1 score. '''\n",
    "    \n",
    "    # Indicate the classifier and the training set size\n",
    "    print \"Training a {} using a training set size of {}. . .\".format(clf.__class__.__name__, len(X_train))\n",
    "    \n",
    "    # Train the classifier\n",
    "    train_classifier(clf, X_train, y_train)\n",
    "    \n",
    "    # Print the results of prediction for both training and testing\n",
    "    print \"F1 score for training set: {:.4f}.\".format(predict_labels(clf, X_train, y_train))\n",
    "    print \"F1 score for test set: {:.4f}.\".format(predict_labels(clf, X_test, y_test))"
   ]
  },
  {
   "cell_type": "markdown",
   "metadata": {},
   "source": [
    "### Implementation: Model Performance Metrics\n",
    "With the predefined functions above, you will now import the three supervised learning models of your choice and run the `train_predict` function for each one. Remember that you will need to train and predict on each classifier for three different training set sizes: 100, 200, and 300. Hence, you should expect to have 9 different outputs below — 3 for each model using the varying training set sizes. In the following code cell, you will need to implement the following:\n",
    "- Import the three supervised learning models you've discussed in the previous section.\n",
    "- Initialize the three models and store them in `clf_A`, `clf_B`, and `clf_C`.\n",
    " - Use a `random_state` for each model you use, if provided.\n",
    " - **Note:** Use the default settings for each model — you will tune one specific model in a later section.\n",
    "- Create the different training set sizes to be used to train each model.\n",
    " - *Do not reshuffle and resplit the data! The new training points should be drawn from `X_train` and `y_train`.*\n",
    "- Fit each model with each training set size and make predictions on the test set (9 in total).  \n",
    "**Note:** Three tables are provided after the following code cell which can be used to store your results."
   ]
  },
  {
   "cell_type": "code",
   "execution_count": 7,
   "metadata": {
    "collapsed": false
   },
   "outputs": [
    {
     "name": "stdout",
     "output_type": "stream",
     "text": [
      "\n",
      "clf: SVC / size: 100 \n",
      "\n",
      "Training a SVC using a training set size of 100. . .\n",
      "Trained model in 0.0017 seconds\n",
      "Made predictions in 0.0009 seconds.\n",
      "F1 score for training set: 0.8772.\n",
      "Made predictions in 0.0008 seconds.\n",
      "F1 score for test set: 0.8000.\n",
      "\n",
      "clf: SVC / size: 200 \n",
      "\n",
      "Training a SVC using a training set size of 200. . .\n",
      "Trained model in 0.0041 seconds\n",
      "Made predictions in 0.0031 seconds.\n",
      "F1 score for training set: 0.8474.\n",
      "Made predictions in 0.0019 seconds.\n",
      "F1 score for test set: 0.8133.\n",
      "\n",
      "clf: SVC / size: 300 \n",
      "\n",
      "Training a SVC using a training set size of 300. . .\n",
      "Trained model in 0.0095 seconds\n",
      "Made predictions in 0.0068 seconds.\n",
      "F1 score for training set: 0.8686.\n",
      "Made predictions in 0.0022 seconds.\n",
      "F1 score for test set: 0.8633.\n",
      "============================================================\n",
      "\n",
      "clf: LogisticRegression / size: 100 \n",
      "\n",
      "Training a LogisticRegression using a training set size of 100. . .\n",
      "Trained model in 0.0013 seconds\n",
      "Made predictions in 0.0002 seconds.\n",
      "F1 score for training set: 0.9200.\n",
      "Made predictions in 0.0001 seconds.\n",
      "F1 score for test set: 0.7313.\n",
      "\n",
      "clf: LogisticRegression / size: 200 \n",
      "\n",
      "Training a LogisticRegression using a training set size of 200. . .\n",
      "Trained model in 0.0023 seconds\n",
      "Made predictions in 0.0003 seconds.\n",
      "F1 score for training set: 0.8414.\n",
      "Made predictions in 0.0002 seconds.\n",
      "F1 score for test set: 0.8281.\n",
      "\n",
      "clf: LogisticRegression / size: 300 \n",
      "\n",
      "Training a LogisticRegression using a training set size of 300. . .\n",
      "Trained model in 0.0029 seconds\n",
      "Made predictions in 0.0008 seconds.\n",
      "F1 score for training set: 0.8486.\n",
      "Made predictions in 0.0002 seconds.\n",
      "F1 score for test set: 0.8750.\n",
      "============================================================\n",
      "\n",
      "clf: KNeighborsClassifier / size: 100 \n",
      "\n",
      "Training a KNeighborsClassifier using a training set size of 100. . .\n",
      "Trained model in 0.0006 seconds\n",
      "Made predictions in 0.0015 seconds.\n",
      "F1 score for training set: 0.8750.\n",
      "Made predictions in 0.0014 seconds.\n",
      "F1 score for test set: 0.7518.\n",
      "\n",
      "clf: KNeighborsClassifier / size: 200 \n",
      "\n",
      "Training a KNeighborsClassifier using a training set size of 200. . .\n",
      "Trained model in 0.0006 seconds\n",
      "Made predictions in 0.0041 seconds.\n",
      "F1 score for training set: 0.8600.\n",
      "Made predictions in 0.0021 seconds.\n",
      "F1 score for test set: 0.8058.\n",
      "\n",
      "clf: KNeighborsClassifier / size: 300 \n",
      "\n",
      "Training a KNeighborsClassifier using a training set size of 300. . .\n",
      "Trained model in 0.0009 seconds\n",
      "Made predictions in 0.0085 seconds.\n",
      "F1 score for training set: 0.8597.\n",
      "Made predictions in 0.0030 seconds.\n",
      "F1 score for test set: 0.8421.\n",
      "============================================================\n"
     ]
    }
   ],
   "source": [
    "# TODO: Import the three supervised learning models from sklearn\n",
    "from sklearn.svm import SVC\n",
    "from sklearn.neighbors import KNeighborsClassifier\n",
    "from sklearn.linear_model import LogisticRegression\n",
    "\n",
    "# TODO: Initialize the three models\n",
    "clf_A = SVC(random_state = RANDOM_STATE)\n",
    "clf_B = LogisticRegression(random_state = RANDOM_STATE)\n",
    "clf_C = KNeighborsClassifier()\n",
    "\n",
    "clfs = [clf_A, clf_B, clf_C]\n",
    "\n",
    "# TODO: Set up the training set sizes\n",
    "\n",
    "# test sample sizes\n",
    "sample_sizes = [100, 200, 300]\n",
    "\n",
    "# TODO: Execute the 'train_predict' function for each classifier and each training set size\n",
    "# train_predict(clf, X_train, y_train, X_test, y_test)\n",
    "\n",
    "# I made this a little more compact and flexible\n",
    "for clf_item in clfs:\n",
    "    for sample_size in sample_sizes:\n",
    "        print '\\nclf:', clf_item.__class__.__name__, '/ size:', sample_size, '\\n'\n",
    "        train_predict(clf_item, X_all[:sample_size], y_all[:sample_size], X_test, y_test)\n",
    "    print '============================================================'"
   ]
  },
  {
   "cell_type": "markdown",
   "metadata": {},
   "source": [
    "### Tabular Results\n",
    "Edit the cell below to see how a table can be designed in [Markdown](https://github.com/adam-p/markdown-here/wiki/Markdown-Cheatsheet#tables). You can record your results from above in the tables provided."
   ]
  },
  {
   "cell_type": "markdown",
   "metadata": {},
   "source": [
    "** Classifer 1 - Support Vector Machine (SVM) **  \n",
    "\n",
    "| Training Set Size | Training Time | Prediction Time (test) | F1 Score (train) | F1 Score (test) |\n",
    "| :---------------: | :---------------------: | :--------------------: | :--------------: | :-------------: |\n",
    "| 100               |     0.0017 seconds      |      0.0008 seconds    |      0.8772      |       0.8000    |\n",
    "| 200               |     0.0041 seconds      |      0.0019 seconds    |      0.8474      |       0.8133    |\n",
    "| 300               |     0.0095 seconds      |      0.0022 seconds    |      0.8686      |       0.8633    |\n",
    "\n",
    "** Classifer 2 - Logistic Regression **  \n",
    "\n",
    "| Training Set Size | Training Time | Prediction Time (test) | F1 Score (train) | F1 Score (test) |\n",
    "| :---------------: | :---------------------: | :--------------------: | :--------------: | :-------------: |\n",
    "| 100               |      0.0013 seconds     |       0.0001 seconds   |      0.9200      |       0.7313    |\n",
    "| 200               |      0.0023 seconds     |       0.0002 seconds   |      0.8414      |       0.8281    |\n",
    "| 300               |      0.0029 seconds     |       0.0002 seconds   |      0.8486      |       0.8750    |\n",
    "\n",
    "** Classifer 3 - K-Nearest-Neighbors **  \n",
    "\n",
    "| Training Set Size | Training Time | Prediction Time (test) | F1 Score (train) | F1 Score (test) |\n",
    "| :---------------: | :---------------------: | :--------------------: | :--------------: | :-------------: |\n",
    "| 100               |      0.0006 seconds     |       0.0014 seconds   |      0.8750      |      0.7518     |\n",
    "| 200               |      0.0006 seconds     |       0.0021 seconds   |      0.8600      |      0.8058     |\n",
    "| 300               |      0.0009 seconds     |       0.0030 seconds   |      0.8597      |       0.8421    |"
   ]
  },
  {
   "cell_type": "markdown",
   "metadata": {},
   "source": [
    "## Choosing the Best Model\n",
    "In this final section, you will choose from the three supervised learning models the *best* model to use on the student data. You will then perform a grid search optimization for the model over the entire training set (`X_train` and `y_train`) by tuning at least one parameter to improve upon the untuned model's F<sub>1</sub> score. "
   ]
  },
  {
   "cell_type": "markdown",
   "metadata": {},
   "source": [
    "### Question 3 - Choosing the Best Model\n",
    "*Based on the experiments you performed earlier, in one to two paragraphs, explain to the board of supervisors what single model you chose as the best model. Which model is generally the most appropriate based on the available data, limited resources, cost, and performance?*"
   ]
  },
  {
   "cell_type": "markdown",
   "metadata": {},
   "source": [
    "**Answer: **\n",
    "\n",
    "I suggest to use the SVM model.\n",
    "\n",
    "While on first sight the Logistic Regression might promise the best results with a steady increase of the F1 score for the test data up to 0.875, the latter is higher than the corresponding F1 score for the training data. It seems that the algorithm is still \"working\" on finding the best model, probably because the sample size is still too small to build a robust model using logistic regression.\n",
    "\n",
    "Both, K-Nearest Neighbors and SVM yield have improved and return high F1 scores that are close together -- thus don't seem to suffer from high bias or high variance -- so the models seem to be fine. The tests also confirm my statement about time for training and prediction. The SVM gives slightly better results, so without being able to ask for more information about the performance of the resources and the use case, I'd go for it."
   ]
  },
  {
   "cell_type": "markdown",
   "metadata": {},
   "source": [
    "### Question 4 - Model in Layman's Terms\n",
    "*In one to two paragraphs, explain to the board of directors in layman's terms how the final model chosen is supposed to work. Be sure that you are describing the major qualities of the model, such as how the model is trained and how the model makes a prediction. Avoid using advanced mathematical or technical jargon, such as describing equations or discussing the algorithm implementation.*"
   ]
  },
  {
   "cell_type": "markdown",
   "metadata": {},
   "source": [
    "**Answer: **\n",
    "\n",
    "Think of the planets belonging to the Federation and the Romulan Empire in Star Trek. Both partys don't really like each other and have a demilitarized zone in between their territories with the border right in the middle. Certainly, they want it to keep each other as far away as possible, so they want the demilitarized zone to be as wide as possible -- someone traveling in the wrong direction should not accidentally enter the other party's territory.\n",
    "\n",
    "Now think of the students with different features as different planets. We want to draw a line between those students (planets) who will pass the test (Romulan Empire) and those who will fail (Federation). This line will run right in the middle of the demilitarized zone of maximum width. This way, you will most likely neither miss a student that might intervention nor bother someone who doesn't. That's what the SVM does.\n",
    "\n",
    "If you are traveling in space between both territories and you want to know whether your vessel is in Federation territory or in Romulan territory, you just have to find your location on a map and see on which side of the line you are. Quick and easy. That's what the SVM does for predicting if a student will fail or not."
   ]
  },
  {
   "cell_type": "markdown",
   "metadata": {},
   "source": [
    "### Implementation: Model Tuning\n",
    "Fine tune the chosen model. Use grid search (`GridSearchCV`) with at least one important parameter tuned with at least 3 different values. You will need to use the entire training set for this. In the code cell below, you will need to implement the following:\n",
    "- Import [`sklearn.grid_search.gridSearchCV`](http://scikit-learn.org/stable/modules/generated/sklearn.grid_search.GridSearchCV.html) and [`sklearn.metrics.make_scorer`](http://scikit-learn.org/stable/modules/generated/sklearn.metrics.make_scorer.html).\n",
    "- Create a dictionary of parameters you wish to tune for the chosen model.\n",
    " - Example: `parameters = {'parameter' : [list of values]}`.\n",
    "- Initialize the classifier you've chosen and store it in `clf`.\n",
    "- Create the F<sub>1</sub> scoring function using `make_scorer` and store it in `f1_scorer`.\n",
    " - Set the `pos_label` parameter to the correct value!\n",
    "- Perform grid search on the classifier `clf` using `f1_scorer` as the scoring method, and store it in `grid_obj`.\n",
    "- Fit the grid search object to the training data (`X_train`, `y_train`), and store it in `grid_obj`."
   ]
  },
  {
   "cell_type": "code",
   "execution_count": 8,
   "metadata": {
    "collapsed": false
   },
   "outputs": [
    {
     "name": "stdout",
     "output_type": "stream",
     "text": [
      "Made predictions in 0.0073 seconds.\n",
      "Untuned model has a training F1 score of 0.8541.\n",
      "Made predictions in 0.0025 seconds.\n",
      "Untuned model has a testing F1 score of 0.8133 \n",
      "\n",
      "Made predictions in 0.0074 seconds.\n",
      "Tuned model has a training F1 score of 0.8620.\n",
      "Made predictions in 0.0025 seconds.\n",
      "Tuned model has a testing F1 score of 0.8158.\n",
      "\n",
      "Best parameters:\n",
      "{'kernel': 'rbf', 'C': 0.7, 'gamma': 0.04} \n",
      "\n"
     ]
    }
   ],
   "source": [
    "# TODO: Import 'GridSearchCV' and 'make_scorer'\n",
    "from sklearn.grid_search import GridSearchCV\n",
    "from sklearn.metrics import make_scorer\n",
    "from sklearn.metrics import f1_score\n",
    "\n",
    "# TODO: Create the parameters list you wish to tune\n",
    "parameters = {\n",
    "    'kernel':['linear', 'rbf'],\n",
    "    'C':[0.1, 0.3, 0.7, 1.0, 1.3, 1.7],\n",
    "    'gamma': [0.02, 0.03, 0.033, 0.04]\n",
    "}\n",
    "\n",
    "# TODO: Initialize the classifier\n",
    "clf = clf_A\n",
    "\n",
    "# Let's have a look at an untuned SVM\n",
    "clf.fit(X_train, y_train)\n",
    "print \"Untuned model has a training F1 score of {:.4f}.\".format(predict_labels(clf, X_train, y_train))\n",
    "print 'Untuned model has a testing F1 score of {:.4f}'.format(predict_labels(clf, X_test, y_test)), '\\n'\n",
    "\n",
    "# TODO: Make an f1 scoring function using 'make_scorer' \n",
    "f1_scorer = make_scorer(f1_score, pos_label='yes')\n",
    "\n",
    "# TODO: Perform grid search on the classifier using the f1_scorer as the scoring method\n",
    "grid_obj = GridSearchCV(clf, parameters, scoring=f1_scorer)\n",
    "\n",
    "# TODO: Fit the grid search object to the training data and find the optimal parameters\n",
    "grid_obj = grid_obj.fit(X_train, y_train)\n",
    "\n",
    "# Get the estimator\n",
    "clf = grid_obj.best_estimator_\n",
    "\n",
    "# Report the final F1 score for training and testing after parameter tuning\n",
    "print \"Tuned model has a training F1 score of {:.4f}.\".format(predict_labels(clf, X_train, y_train))\n",
    "print \"Tuned model has a testing F1 score of {:.4f}.\".format(predict_labels(clf, X_test, y_test))\n",
    "\n",
    "## What's the result?\n",
    "print'\\nBest parameters:'\n",
    "print grid_obj.best_params_, '\\n'\n"
   ]
  },
  {
   "cell_type": "markdown",
   "metadata": {},
   "source": [
    "### Question 5 - Final F<sub>1</sub> Score\n",
    "*What is the final model's F<sub>1</sub> score for training and testing? How does that score compare to the untuned model?*"
   ]
  },
  {
   "cell_type": "markdown",
   "metadata": {},
   "source": [
    "**Answer: **\n",
    "\n",
    "For the fine tuned model, I chose some parameters close to sklearn's default values that were used to the untuned model and gave us the F1 score of 0.8541 for training and 0.8133 for testing.\n",
    "\n",
    "For the tuned model, the final F1 score for training is 0.8620, and the final F1 score for testing is 0.8158. It seems that we were able to increase both F1 scores a little bit - especially the one for testing, but we also increased the variance. We might probably tweak this a little more, but we should be careful not to overfit the model."
   ]
  },
  {
   "cell_type": "markdown",
   "metadata": {},
   "source": [
    "> **Note**: Once you have completed all of the code implementations and successfully answered each question above, you may finalize your work by exporting the iPython Notebook as an HTML document. You can do this by using the menu above and navigating to  \n",
    "**File -> Download as -> HTML (.html)**. Include the finished document along with this notebook as your submission."
   ]
  }
 ],
 "metadata": {
  "kernelspec": {
   "display_name": "Python 2",
   "language": "python",
   "name": "python2"
  },
  "language_info": {
   "codemirror_mode": {
    "name": "ipython",
    "version": 2
   },
   "file_extension": ".py",
   "mimetype": "text/x-python",
   "name": "python",
   "nbconvert_exporter": "python",
   "pygments_lexer": "ipython2",
   "version": "2.7.12"
  }
 },
 "nbformat": 4,
 "nbformat_minor": 0
}
